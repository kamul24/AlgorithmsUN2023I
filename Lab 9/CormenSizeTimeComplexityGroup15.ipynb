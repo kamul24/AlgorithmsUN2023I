{
  "cells": [
    {
      "cell_type": "markdown",
      "metadata": {
        "id": "Nu7dyukR7WLi"
      },
      "source": [
        "# 3. (1 nanosecond by instruction)\n",
        "\n",
        "Asuuming that you can execute a 1000 million instructions $10^9$ every second, i.e. each instrcution takes 1  nanosecond, 1 $\\eta s  = 10^{-9} s$. If you have algorithms take $\\bf{ Time\\ Complexity}$ steps to solve a problem of size $n$ as specified in column one. What is the size of the largest problem that you can solve in the time specified in row one?\n",
        "\n",
        "$$\n",
        "\\begin{array}{|c|c|c|c|c|c|c|c|} \n",
        " \\hline\n",
        " \\bf{ Time\\ Complexity} & Second  & Minute  & Hour & Day & Year & Century & Mileniun  \\\\ \n",
        "  \\hline\\\\ \n",
        "\\lg(n) & 2^{10^{9} }    & 2^{60 \\times 10^{9}} & 2^{3.6 \\times 10^{12}} &  2^{8.64 \\times 10^{13}}& 2^{3.1536 \\times 10^{15}} & 2^{3.1536 \\times 10^{18}} & 2^{3.1536 \\times 10^{21}} \\\\ \n",
        "   \\hline\\\\ \n",
        "\\lg^2(n) &   2^{31623}  & 2^{244949}  & 2^{1897367} & 2^{9295160} & 2^{177583783} & 2^{1775837830} &  2^{56156922993} \\\\ \n",
        "   \\hline\\\\ \n",
        "\\sqrt{n} &  10^{18}  & 3.6 \\times 10^{21}  & 1.296 \\times 10^{25} & 7.46496 \\times 10^{27}& 9.94519296 \\times 10^{32} & 9.94519296  \\times 10^{36} & 9.94519296 \\times 10^{42}\\\\ \n",
        " \\hline\n",
        " n & 10^{9}    & 6 \\times 10^{10}   & 3.6 \\times 10^{12} & 8.64 \\times 10^{13} & 6.41136862 \\times 10^{16} & 3.1536 \\times 10^{18} &  3.1536 \\times 10^{21}\\\\ \n",
        " \\hline\n",
        " n\\lg(n) &  39620077  & 1.94447045\\times 10^{9}  &   9.85747745\\times 10^{10} & 2.11037274\\times 10^{12}  &  6.41136862 \\times 10^{14} & 5.66650934\\times 10^{16} &  4.82300896\\times 10^{19} \\\\ \n",
        " \\hline\n",
        " n^2 &  31623  & 244949  & 1897367 & 9295160 & 177583783 & 1775837830 &  56156922993 \\\\ \n",
        " \\hline\n",
        "  n^3 &  1000 &  3915 & 15326 &  44208  &  315938 & 1466455 & 14664554 \\\\ \n",
        " \\hline\n",
        "  n^4 &  178  &  495  & 1377 & 3049 & 13326 & 42141  & 236975 \\\\ \n",
        " \\hline\n",
        "  2^n &  29  &  35 & 41 & 46 & 54 & 61 & 71 \\\\ \n",
        " \\hline\n",
        " n! &  12  & 13 &  15 & 16 & 18 & 20  &  22\\\\ \n",
        " \\hline\n",
        " n^n &  9  &  10 & 11 & 12 & 14 & 15 & 17 \\\\ \n",
        " \\hline\n",
        "\\end{array}\n",
        "$$"
      ]
    },
    {
      "cell_type": "markdown",
      "metadata": {
        "id": "1ISYNEQ47WLi"
      },
      "source": [
        "$\\bf{ Time\\ Complexity\\ \\lg(n) }$\n",
        "\n",
        "$Second$\n",
        "$$ \\lg(n) \\times 10^{-9}\\ s\\le 1\\ s$$ \n",
        "$$ \\lg(n) \\le 1 * 10^{9}$$ \n",
        "$$ 2^{\\lg(n)} \\le 2^{10^{9}}$$ \n",
        "$$ n \\le 2^{10^{9}}$$ \n",
        "\n",
        "$Minute$\n",
        "$$ \\lg(n) \\times 10^{-9} \\ s \\le 60\\ s$$ \n",
        "$$ \\lg(n) \\le 60 \\times 10^{9} $$ \n",
        "$$ 2^{\\lg(n)} \\le 2^{60 \\times 10^{9} }$$ \n",
        "$$ n \\le 2^{60 \\times 10^{9} }$$ \n",
        "\n",
        "$Hour$\n",
        "$$ \\lg(n) \\times 10^{-9} \\ s \\le 3600\\ s$$ \n",
        "$$ \\lg(n) \\le 3600 \\times 10^{9} $$ \n",
        "$$ 2^{\\lg(n)} \\le 2^{3.6 \\times 10^{12}}$$ \n",
        "$$ n \\le 2^{3.6 \\times 10^{12}}$$ \n",
        "\n",
        "$Day$\n",
        "$$ \\lg(n) \\times 10^{-9} \\ s \\le 86400\\ s$$ \n",
        "$$ \\lg(n) \\le 86400\\times 10^{9} $$ \n",
        "$$ 2^{\\lg(n)} \\le 2^{8.64 \\times 10^{13}}$$ \n",
        "$$ n \\le 2^{8.64 \\times 10^{13}}$$ \n",
        "\n",
        "$Year$\n",
        "$$ \\lg(n) \\times 10^{-9} \\ s \\le 31536000\\ s$$ \n",
        "$$ \\lg(n) \\le 31536000\\times 10^{9} $$ \n",
        "$$ 2^{\\lg(n)} \\le 2^{3.1536 \\times 10^{16}}$$ \n",
        "$$ n \\le 2^{3.1536 \\times 10^{16}}$$ \n",
        "\n",
        "$Century$\n",
        "$$ \\lg(n) \\times 10^{-9} \\ s \\le 3153600000\\ s$$ \n",
        "$$ \\lg(n) \\le 3153600000\\times 10^{9} $$ \n",
        "$$ 2^{\\lg(n)} \\le 2^{3.1536 \\times 10^{18}}$$ \n",
        "$$ n \\le 2^{3.1536 \\times 10^{18}}$$ \n",
        "\n",
        "$Mileniun$\n",
        "$$ \\lg(n) \\times 10^{-9} \\ s \\le 3153600000000\\ s$$ \n",
        "$$ \\lg(n) \\le 3153600000000\\times 10^{9} $$ \n",
        "$$ 2^{\\lg(n)} \\le 2^{3.1536 \\times 10^{21}}$$ \n",
        "$$ n \\le 2^{3.1536 \\times 10^{21}}$$ "
      ]
    },
    {
      "cell_type": "markdown",
      "metadata": {
        "id": "PPpD-Icb7WLi"
      },
      "source": [
        "$\\bf{ Time\\ Complexity\\ \\lg^2(n) }$\n",
        "\n",
        "$Second$\n",
        "$$ \\lg^2(n) \\times 10^{-9} \\ s\\le 1\\ s$$ \n",
        "$$ \\lg(n) \\le \\sqrt{1 * 10^{9}} $$ \n",
        "$$ 2^{\\lg(n)} \\le 2^{\\sqrt{1 * 10^{9}} }$$ \n",
        "$$ n \\le 2^{ 31623   }$$ \n",
        "\n",
        "$Minute$\n",
        "$$ \\lg^2(n) \\times 10^{-9} \\ s \\le 60\\ s$$ \n",
        "$$ \\lg(n) \\le \\sqrt{60 \\times 10^{9}} $$ \n",
        "$$ 2^{\\lg(n)} \\le 2^{\\sqrt{60 \\times 10^{9}} }$$ \n",
        "$$ n \\le 2^{ 244949   }$$ \n",
        "\n",
        "$Hour$\n",
        "$$ \\lg^2(n) \\times 10^{-9} \\ s \\le 3600\\ s$$ \n",
        "$$ \\lg(n) \\le \\sqrt{3600 \\times 10^{9}} $$ \n",
        "$$ 2^{\\lg(n)} \\le 2^{\\sqrt{3.6 \\times 10^{12}}}$$ \n",
        "$$ n \\le  2^{ 1897367   }$$ \n",
        "\n",
        "$Day$\n",
        "$$ \\lg^2(n) \\times 10^{-9} \\ s \\le 86400\\ s$$ \n",
        "$$ \\lg(n) \\le \\sqrt{86400\\times 10^{9}} $$ \n",
        "$$ 2^{\\lg(n)} \\le 2^{\\sqrt{8.6400\\times 10^{13}}}$$ \n",
        "$$ n \\le 2^{ 9295160   }$$ \n",
        "\n",
        "$Year$\n",
        "$$ \\lg^2(n) \\times 10^{-9} \\ s \\le 31536000\\ s$$ \n",
        "$$ \\lg(n) \\le \\sqrt{31536000\\times 10^{9}} $$ \n",
        "$$ 2^{\\lg(n)} \\le 2^{\\sqrt{3.1536\\times 10^{16}}}$$ \n",
        "$$ n \\le 2^{ 177583783   }$$ \n",
        "\n",
        "$Century$\n",
        "$$ \\lg^2(n) \\times 10^{-9} \\ s \\le 3153600000\\ s$$ \n",
        "$$ \\lg(n) \\le \\sqrt{3153600000\\times 10^{9}} $$ \n",
        "$$ 2^{\\lg(n)} \\le 2^{\\sqrt{3.1536 \\times 10^{18}}}$$ \n",
        "$$ n \\le 2^{ 1775837830   }$$ \n",
        "\n",
        "$Mileniun$\n",
        "$$ \\lg^2(n) \\times 10^{-9} \\ s \\le 3153600000000\\ s$$ \n",
        "$$ \\lg(n) \\le \\sqrt{3153600000000\\times 10^{9}} $$ \n",
        "$$ 2^{\\lg(n)} \\le 2^{\\sqrt{3.1536 \\times 10^{21}}}$$ \n",
        "$$ n \\le 2^{ 56156922993   }$$ "
      ]
    },
    {
      "cell_type": "code",
      "execution_count": null,
      "metadata": {
        "id": "poKAKZsJ7WLi",
        "outputId": "d9296655-4eeb-40eb-a237-be3cbdf0a22d"
      },
      "outputs": [
        {
          "name": "stdout",
          "output_type": "stream",
          "text": [
            "Second 2^{ 31623 }\n",
            "Minute 2^{ 244949 }\n",
            "Hour 2^{ 1897367 }\n",
            "Day 2^{ 9295160 }\n",
            "Year 2^{ 177583783 }\n",
            "Century 2^{ 1775837830 }\n",
            "Mileniun 2^{ 56156922993 }\n"
          ]
        }
      ],
      "source": [
        "import math\n",
        "i = 10**9\n",
        "print(\"Second 2^{\",round(math.sqrt(i)),\"}\")\n",
        "print(\"Minute 2^{\",round(math.sqrt(60*i)),\"}\")\n",
        "print(\"Hour 2^{\",round(math.sqrt(60*60*i)),\"}\")\n",
        "print(\"Day 2^{\",round(math.sqrt(24*60*60*i)),\"}\")\n",
        "print(\"Year 2^{\",round(math.sqrt(365*24*60*60*i)),\"}\")\n",
        "print(\"Century 2^{\",round(math.sqrt(100*365*24*60*60*i)),\"}\")\n",
        "print(\"Mileniun 2^{\",round(math.sqrt(1000*100*365*24*60*60*i)),\"}\")"
      ]
    },
    {
      "cell_type": "markdown",
      "metadata": {
        "id": "vIVIgCuZ7WLj"
      },
      "source": [
        "$\\bf{ Time\\ Complexity\\ \\sqrt{n} }$\n",
        "\n",
        "$Second$\n",
        "$$  \\sqrt{n}  \\times 10^{-9} \\ s\\le 1\\ s$$ \n",
        "$$  \\sqrt{n}  \\le 10^{9} $$\n",
        "$$  n \\le   10^{ 18 }$$ \n",
        "\n",
        "$Minute$\n",
        "$$  \\sqrt{n} \\times 10^{-9} \\ s\\le 60\\ s$$ \n",
        "$$  \\sqrt{n}  \\le 60 \\times 10^{9}$$ \n",
        "$$  n \\le 3.600 \\times10^{ 21 }$$ \n",
        "\n",
        "$Hour$\n",
        "$$  \\sqrt{n}\\times 10^{-9} \\ s\\le 3600\\ s$$ \n",
        "$$  \\sqrt{n} \\le 3600 \\times 10^{6}$$ \n",
        "$$  n  \\le 1.296 \\times10^{ 25 }$$ \n",
        "\n",
        "$Day$\n",
        "$$  \\sqrt{n} \\times 10^{-9} \\ s\\le 86400\\ s$$ \n",
        "$$  \\sqrt{n}\\le 86400 \\times 10^{9}$$ \n",
        "$$  n \\le 7.46496 \\times10^{ 27 }$$ \n",
        "\n",
        "$Year$\n",
        "$$  \\sqrt{n} \\times 10^{-9} \\ s\\le 31536000\\ s$$ \n",
        "$$  \\sqrt{n} \\le 31536000 \\times 10^{9}$$ \n",
        "$$  n \\le 9.94519296 \\times10^{ 32 }$$ \n",
        "\n",
        "$Century$\n",
        "$$  \\sqrt{n} \\times 10^{-9} \\ s\\le 3153600000\\ s$$ \n",
        "$$  \\sqrt{n} \\le 3153600000 \\times 10^{9}$$ \n",
        "$$  n \\le 9.94519296  \\times10^{ 36 }$$ \n",
        "\n",
        "$Mileniun$\n",
        "$$  \\sqrt{n} \\times 10^{-9} \\ s\\le 3153600000000\\ s$$ \n",
        "$$  \\sqrt{n} \\le 3153600000000 \\times 10^{9}$$ \n",
        "$$  n \\le 9.94519296 \\times10^{ 42 }$$ \n",
        "\n"
      ]
    },
    {
      "cell_type": "code",
      "execution_count": null,
      "metadata": {
        "id": "90P_z0Ql7WLj",
        "outputId": "474071bd-5560-43ea-dcda-c67d593edf48"
      },
      "outputs": [
        {
          "name": "stdout",
          "output_type": "stream",
          "text": [
            "Second  1.00000000E+18\n",
            "Minute   3.60000000E+21\n",
            "Hour  1.29600000E+25\n",
            "Day  7.46496000E+27\n",
            "Year  9.94519296E+32\n",
            "Century  9.94519296E+36\n",
            "Mileniun   9.94519296E+42\n"
          ]
        }
      ],
      "source": [
        "import math\n",
        "i = 10**9\n",
        "print(\"Second \", \"{:.8E}\".format(math.pow(i,2)))\n",
        "print(\"Minute  \",\"{:.8E}\".format(math.pow(60*i,2)))\n",
        "print(\"Hour \",\"{:.8E}\".format(math.pow(60*60*i,2)))\n",
        "print(\"Day \",\"{:.8E}\".format(math.pow(24*60*60*i,2)))\n",
        "print(\"Year \",\"{:.8E}\".format(math.pow(365*24*60*60*i,2)))\n",
        "print(\"Century \",\"{:.8E}\".format(math.pow(100*365*24*60*60*i,2)))\n",
        "print(\"Mileniun  \",\"{:.8E}\".format(math.pow(1000*100*365*24*60*60*i,2)))"
      ]
    },
    {
      "cell_type": "markdown",
      "metadata": {
        "id": "nRgE_1qH7WLj"
      },
      "source": [
        "$\\bf{ Time\\ Complexity\\ n }$\n",
        "\n",
        "$Second$\n",
        "$$  n  \\times 10^{-9}\\ s\\le 1\\ s$$ \n",
        "$$  n \\le  10^{9}$$ \n",
        "\n",
        "\n",
        "$Minute$\n",
        "$$  n \\times 10^{-9}\\ s\\le 60\\ s$$ \n",
        "$$  n \\le 60 \\times 10^{9}$$ \n",
        "\n",
        "\n",
        "$Hour$\n",
        "$$  n \\times 10^{-9}\\ s\\le 3600\\ s$$ \n",
        "$$  n \\le 3600 \\times 10^{9} = 3.6 \\times 10^{12}$$ \n",
        "\n",
        "\n",
        "$Day$\n",
        "$$  n \\times 10^{-9}\\ s\\le 86400\\ s$$ \n",
        "$$  n \\le 86400 \\times 10^{9} = 8.64 \\times 10^{13}$$ \n",
        "\n",
        "\n",
        "$Year$\n",
        "$$  n \\times 10^{-9}\\ s\\le 31536000\\ s$$ \n",
        "$$  n \\le 31536000 \\times 10^{9}  = 3.153 \\times 10^{16}$$ \n",
        "\n",
        "\n",
        "\n",
        "$Century$\n",
        "$$  n \\times 10^{-9}\\ s\\le 3153600000\\ s$$ \n",
        "$$  n \\le 3153600000 \\times 10^{9} = 3.153 \\times 10^{18}$$ \n",
        " \n",
        "\n",
        "$Mileniun$\n",
        "$$  n \\times 10^{-9}\\ s\\le 3153600000000\\ s$$ \n",
        "$$  n \\le 3153600000000 \\times 10^{9} = 3.153 \\times 10^{21}$$ "
      ]
    },
    {
      "cell_type": "code",
      "execution_count": null,
      "metadata": {
        "id": "-_tvxvxT7WLj",
        "outputId": "acceeb5c-adab-45ca-f33d-05610633db54"
      },
      "outputs": [
        {
          "name": "stdout",
          "output_type": "stream",
          "text": [
            "Second  1.00000000E+09\n",
            "Minute   6.00000000E+10\n",
            "Hour  3.60000000E+12\n",
            "Day  8.64000000E+13\n",
            "Year  3.15360000E+16\n",
            "Century  3.15360000E+18\n",
            "Mileniun   3.15360000E+21\n"
          ]
        }
      ],
      "source": [
        "import math\n",
        "i = 10**9\n",
        "print(\"Second \", \"{:.8E}\".format(i))\n",
        "print(\"Minute  \",\"{:.8E}\".format(60*i))\n",
        "print(\"Hour \",\"{:.8E}\".format(60*60*i))\n",
        "print(\"Day \",\"{:.8E}\".format(24*60*60*i))\n",
        "print(\"Year \",\"{:.8E}\".format(365*24*60*60*i))\n",
        "print(\"Century \",\"{:.8E}\".format(100*365*24*60*60*i))\n",
        "print(\"Mileniun  \",\"{:.8E}\".format(1000*100*365*24*60*60*i))"
      ]
    },
    {
      "cell_type": "markdown",
      "metadata": {
        "id": "NSEfpoaw7WLk"
      },
      "source": [
        "$\\bf{ Time\\ Complexity\\ n\\lg{n} }$\n",
        "\n",
        "$Second$\n",
        "$$   n\\lg{n}  \\times 10^{-9} \\ s\\le 1\\ s$$ \n",
        "$$   n\\lg{n} \\le  10^{9} $$ \n",
        "\n",
        "\n",
        "$Minute$\n",
        "$$   n\\lg{n} \\times 10^{-9} \\ s\\le 60\\ s$$ \n",
        "$$   n\\lg{n} \\le 60 \\times 10^{9} $$ \n",
        "\n",
        "\n",
        "$Hour$\n",
        "$$   n\\lg{n} \\times 10^{-9} \\ s\\le 3600\\ s$$ \n",
        "$$   n\\lg{n} \\le 3600 \\times 10^{9} $$ \n",
        "\n",
        "\n",
        "$Day$\n",
        "$$   n\\lg{n} \\times 10^{-9} \\ s\\le 86400\\ s$$ \n",
        "$$   n\\lg{n} \\le 86400 \\times 10^{9} $$ \n",
        "\n",
        "\n",
        "$Year$\n",
        "$$   n\\lg{n} \\times 10^{-9} \\ s\\le 31536000\\ s$$ \n",
        "$$   n\\lg{n} \\le 31536000 \\times 10^{9} $$ \n",
        "\n",
        "\n",
        "\n",
        "$Century$\n",
        "$$   n\\lg{n} \\times 10^{-9} \\ s\\le 3153600000\\ s$$ \n",
        "$$   n\\lg{n} \\le 3153600000 \\times 10^{9} $$ \n",
        " \n",
        "\n",
        "$Mileniun$\n",
        "$$   n\\lg{n} \\times 10^{-9} \\ s\\le 3153600000000\\ s$$ \n",
        "$$  n \\le 3153600000000 \\times 10^{9} $$ "
      ]
    },
    {
      "cell_type": "code",
      "execution_count": null,
      "metadata": {
        "id": "bxNUCeii7WLk",
        "outputId": "cbc15426-590d-4ebb-d43d-52251bbff70a"
      },
      "outputs": [
        {
          "name": "stdout",
          "output_type": "stream",
          "text": [
            "Second  39620077  =  3.96200770E+07\n",
            "Minute   1944470450  =  1.94447045E+09\n",
            "Hour  98574774544  =  9.85747745E+10\n",
            "Day  2110372739876  =  2.11037274E+12\n",
            "Year  641136862352841  =  6.41136862E+14\n",
            "Century  56665093434063120  =  5.66650934E+16\n",
            "Mileniun  48230089612197773312  =  4.82300896E+19\n"
          ]
        }
      ],
      "source": [
        "import math\n",
        "def f(n):\n",
        "  return n*math.log2(n)\n",
        "\n",
        "\n",
        "def find(f,v):\n",
        "  l = 1\n",
        "  r = v\n",
        "  while True:\n",
        "    m = int((l+r)/2)\n",
        "    if ((f(m+1) > v) and (f(m) <= v) ) or (l == m) or  (r == m):\n",
        "      return int(m)   \n",
        "    elif f(m) < v:\n",
        "      l = m\n",
        "    else: \n",
        "      r = m\n",
        "      \n",
        "i = 10**9 \n",
        "print(\"Second \", find(f,i),\" = \", \"{:.8E}\".format(find(f,i )))\n",
        "print(\"Minute  \",find(f,60*i),\" = \", \"{:.8E}\".format(find(f,60*i )))\n",
        "print(\"Hour \",find(f,60*60*i),\" = \", \"{:.8E}\".format(find(f,60*60*i )))\n",
        "print(\"Day \",find(f,24*60*60*i ),\" = \", \"{:.8E}\".format(find(f,24*60*60*i )) )\n",
        "print(\"Year \",find(f,365*24*60*60*i ),\" = \", \"{:.8E}\".format(find(f,365*24*60*60*i )) )\n",
        "print(\"Century \",find(f,100*365*24*60*60*i ),\" = \", \"{:.8E}\".format(find(f,100*365*24*60*60*i )) )\n",
        "print(\"Mileniun \",find(f,1000*100*365*24*60*60*i ),\" = \", \"{:.8E}\".format(find(f,1000*100*365*24*60*60*i )) )"
      ]
    },
    {
      "cell_type": "markdown",
      "metadata": {
        "id": "1rxvJJqX7WLk"
      },
      "source": [
        "$\\bf{ Time\\ Complexity\\ n^2}$\n",
        "\n",
        "$Second$\n",
        "$$  n^2 \\times 10^{-9} \\ s\\le 1\\ s$$ \n",
        "$$  n^2 \\le  10^{9} $$ \n",
        "$$ \\sqrt{n^2} \\le \\sqrt{10^{9} }$$ \n",
        "$$ n \\le 31623 $$ \n",
        "\n",
        "$Minute$\n",
        "$$  n^2\\times 10^{-9} \\ s\\le 60\\ s$$ \n",
        "$$  n^2 \\le 60 \\times 10^{9} $$ \n",
        "$$ \\sqrt{n^2} \\le \\sqrt{60 \\times10^{9} }$$ \n",
        "$$ n \\le  244949 $$\n",
        "  \n",
        "$Hour$\n",
        "$$  n^2 \\times 10^{-9} \\ s\\le 3600\\ s$$ \n",
        "$$ n^2 \\le 3600 \\times 10^{9} $$ \n",
        "$$ \\sqrt{n^2} \\le \\sqrt{3.6 \\times10^{12}}$$ \n",
        "$$ n \\le 1897367 $$\n",
        "\n",
        "$Day$\n",
        "$$  n^2 \\times 10^{-9} \\ s\\le 86400\\ s$$ \n",
        "$$  n^2 \\le 86400 \\times 10^{9} $$ \n",
        "$$ \\sqrt{n^2} \\le \\sqrt{8.64 \\times10^{13}}$$ \n",
        "$$ n \\le 9295160 $$\n",
        "\n",
        "$Year$\n",
        "$$  n^2 \\times 10^{-9} \\ s\\le 31536000\\ s$$ \n",
        "$$  n^2 \\le 31536000 \\times 10^{9} $$ \n",
        "$$ \\sqrt{n^2} \\le \\sqrt{3.1536 \\times10^{16}}$$ \n",
        "$$ n \\le 177583783 $$ \n",
        "\n",
        "$Century$\n",
        "$$  n^2 \\times 10^{-9} \\ s\\le 3153600000\\ s$$ \n",
        "$$  n^2 \\le 3153600000 \\times 10^{9} $$ \n",
        "$$ \\sqrt{n^2} \\le \\sqrt{3.1536 \\times10^{18}}$$ \n",
        "$$ n \\le 1775837830 $$ \n",
        "\n",
        "$Mileniun$\n",
        "$$  n^2 \\times 10^{-9} \\ s\\le 3153600000000\\ s$$ \n",
        "$$ n^2 \\le 3153600000000 \\times 10^{9} $$ \n",
        "$$ \\sqrt{n^2} \\le \\sqrt{3.1536 \\times10^{21}}$$ \n",
        "$$ n \\le 56156922993 $$  \n"
      ]
    },
    {
      "cell_type": "code",
      "execution_count": null,
      "metadata": {
        "id": "Zcc6pXLO7WLk",
        "outputId": "20540cde-6581-40a5-8825-0fe3be16800e"
      },
      "outputs": [
        {
          "name": "stdout",
          "output_type": "stream",
          "text": [
            "Second  31623\n",
            "Minute   244949\n",
            "Hour  1897367\n",
            "Day  9295160\n",
            "Year  177583783\n",
            "Century  1775837830\n",
            "Mileniun  56156922993\n"
          ]
        }
      ],
      "source": [
        "import math\n",
        "i = 10**9\n",
        "print(\"Second \",round(math.sqrt(i )))\n",
        "print(\"Minute  \",round(math.sqrt(60*i )))\n",
        "print(\"Hour \",round(math.sqrt(60*60*i )))\n",
        "print(\"Day \",round(math.sqrt(24*60*60*i )))\n",
        "print(\"Year \",round(math.sqrt(365*24*60*60*i )))\n",
        "print(\"Century \",round(math.sqrt(100*365*24*60*60*i )))\n",
        "print(\"Mileniun \",round(math.sqrt(1000*100*365*24*60*60*i )))"
      ]
    },
    {
      "cell_type": "markdown",
      "metadata": {
        "id": "B08oanJR7WLl"
      },
      "source": [
        "$\\bf{ Time\\ Complexity\\ n^3 }$\n",
        "\n",
        "$Second$\n",
        "$$  n^3 \\times 10^{-9} \\ s\\le 1\\ s$$ \n",
        "$$  n^3 \\le  10^{9} $$ \n",
        "$$ \\sqrt[4]{n^3} \\le \\sqrt[3]{10^{9} }$$ \n",
        "$$ n \\le  1000 $$ \n",
        "\n",
        "$Minute$\n",
        "$$  n^3 \\times 10^{-9} \\ s\\le 60\\ s$$ \n",
        "$$  n^3 \\le 60 \\times 10^{9} $$ \n",
        "$$ \\sqrt[3]{n^3} \\le \\sqrt[3]{60 \\times10^{9} }$$ \n",
        "$$ n \\le  3915 $$\n",
        "  \n",
        "$Hour$\n",
        "$$  n^3 \\times 10^{-9} \\ s\\le 3600\\ s$$ \n",
        "$$  n^3 \\le 3600 \\times 10^{9} $$ \n",
        "$$ \\sqrt[3]{n^3 } \\le \\sqrt[3]{3.6 \\times10^{12}}$$ \n",
        "$$ n \\le 15326 $$\n",
        "\n",
        "$Day$\n",
        "$$  n^3 \\times 10^{-9} \\ s\\le 86400\\ s$$ \n",
        "$$  n^3 \\le 86400 \\times 10^{9} $$ \n",
        "$$ \\sqrt[3]{n^3} \\le \\sqrt[3]{8.64 \\times10^{13}}$$ \n",
        "$$ n \\le 44208 $$\n",
        "\n",
        "$Year$\n",
        "$$  n^3 \\times 10^{-9} \\ s\\le 31536000\\ s$$ \n",
        "$$  n^3 \\le 31536000 \\times 10^{9} $$ \n",
        "$$ \\sqrt[3]{n^3} \\le \\sqrt[3]{3.1536 \\times10^{16}}$$ \n",
        "$$ n \\le 315938 $$ \n",
        "\n",
        "$Century$\n",
        "$$  n^3 \\times 10^{-9} \\ s\\le 3153600000\\ s$$ \n",
        "$$  n^3 \\le 3153600000 \\times 10^{9} $$ \n",
        "$$ \\sqrt[3]{n^3} \\le \\sqrt[3]{3.1536 \\times10^{18}}$$ \n",
        "$$ n \\le 1466455 $$ \n",
        "\n",
        "$Mileniun$\n",
        "$$  n^3 \\times 10^{-9} \\ s\\le 3153600000000\\ s$$ \n",
        "$$  n^3 \\le 3153600000000 \\times 10^{9} $$ \n",
        "$$ \\sqrt[3]{n^3} \\le \\sqrt[3]{3.1536 \\times10^{21}}$$ \n",
        "$$ n \\le 14664554 $$ "
      ]
    },
    {
      "cell_type": "code",
      "execution_count": null,
      "metadata": {
        "id": "yzSxKItp7WLl",
        "outputId": "50be3703-3c7e-4d71-9382-118695fb94ce"
      },
      "outputs": [
        {
          "name": "stdout",
          "output_type": "stream",
          "text": [
            "Second  1000\n",
            "Minute   3915\n",
            "Hour  15326\n",
            "Day  44208\n",
            "Year  315938\n",
            "Century  1466455\n",
            "Mileniun  14664554\n"
          ]
        }
      ],
      "source": [
        "import math\n",
        "i = 10**9\n",
        "print(\"Second \",round(math.pow(i ,1/3)))\n",
        "print(\"Minute  \",round(math.pow(60*i ,1/3)))\n",
        "print(\"Hour \",round(math.pow(60*60*i ,1/3)))\n",
        "print(\"Day \",round(math.pow(24*60*60*i ,1/3)))\n",
        "print(\"Year \",round(math.pow(365*24*60*60*i ,1/3)))\n",
        "print(\"Century \",round(math.pow(100*365*24*60*60*i ,1/3)))\n",
        "print(\"Mileniun \",round(math.pow(1000*100*365*24*60*60*i ,1/3)))\n"
      ]
    },
    {
      "cell_type": "markdown",
      "metadata": {
        "id": "wscaVS_D7WLl"
      },
      "source": [
        "$\\bf{ Time\\ Complexity\\ n^4 }$\n",
        "\n",
        "$Second$\n",
        "$$  n^4 \\times 10^{-9} \\ s\\le 1\\ s$$ \n",
        "$$  n^4\\le  10^{9} $$ \n",
        "$$ \\sqrt[4]{n^4 } \\le \\sqrt[4]{10^{9} }$$ \n",
        "$$ n \\le   178 $$ \n",
        "\n",
        "$Minute$\n",
        "$$  n^4 \\times 10^{-9} \\ s\\le 60\\ s$$ \n",
        "$$  n^4 \\le 60 \\times 10^{9} $$ \n",
        "$$ \\sqrt[4]{n^4 } \\le \\sqrt[4]{60 \\times10^{9} }$$ \n",
        "$$ n \\le 495 $$\n",
        "  \n",
        "$Hour$\n",
        "$$  n^4 \\times 10^{-9} \\ s\\le 3600\\ s$$ \n",
        "$$  n^4 \\le 3600 \\times 10^{9} $$ \n",
        "$$ \\sqrt[4]{n^4} \\le \\sqrt[4]{3.6 \\times10^{12}}$$ \n",
        "$$ n \\le 1377 $$  \n",
        "\n",
        "$Day$\n",
        "$$  n^4 \\times 10^{-9} \\ s\\le 86400\\ s$$ \n",
        "$$  n^4 \\le 86400 \\times 10^{9} $$ \n",
        "$$ \\sqrt[4]{n^4} \\le \\sqrt[4]{8.64 \\times10^{13}}$$ \n",
        "$$ n \\le 3049 $$\n",
        "\n",
        "$Year$\n",
        "$$  n^4 \\times 10^{-9} \\ s\\le 31536000\\ s$$ \n",
        "$$  n^4 \\le 31536000 \\times 10^{9} $$ \n",
        "$$ \\sqrt[4]{n^4} \\le \\sqrt[4]{3.1536 \\times10^{16}}$$ \n",
        "$$ n \\le 13326 $$ \n",
        "\n",
        "$Century$\n",
        "$$  n^4 \\times 10^{-9} \\ s\\le 3153600000\\ s$$ \n",
        "$$  n^4 \\le 3153600000 \\times 10^{9} $$ \n",
        "$$ \\sqrt[4]{n^4} \\le \\sqrt[4]{3.1536 \\times10^{18}}$$ \n",
        "$$ n \\le 42141 $$ \n",
        "\n",
        "$Mileniun$\n",
        "$$  n^4 \\times 10^{-9} \\ s\\le 3153600000000\\ s$$ \n",
        "$$  n^4 \\le 3153600000000 \\times 10^{9} $$ \n",
        "$$ \\sqrt[4]{n^4} \\le \\sqrt[4]{3.1536 \\times10^{21}}$$ \n",
        "$$ n \\le 236975 $$ \n",
        "\n",
        "  "
      ]
    },
    {
      "cell_type": "code",
      "execution_count": null,
      "metadata": {
        "id": "jarJjuPx7WLl",
        "outputId": "4b1159ed-3fdb-4c68-90f7-3fb286c721ff"
      },
      "outputs": [
        {
          "name": "stdout",
          "output_type": "stream",
          "text": [
            "Second  178\n",
            "Minute   495\n",
            "Hour  1377\n",
            "Day  3049\n",
            "Year  13326\n",
            "Century  42141\n",
            "Mileniun  236975\n"
          ]
        }
      ],
      "source": [
        "import math\n",
        "i = 10**9\n",
        "print(\"Second \",round(math.pow(i ,1/4)))\n",
        "print(\"Minute  \",round(math.pow(60*i ,1/4)))\n",
        "print(\"Hour \",round(math.pow(60*60*i ,1/4)))\n",
        "print(\"Day \",round(math.pow(24*60*60*i ,1/4)))\n",
        "print(\"Year \",round(math.pow(365*24*60*60*i ,1/4)))\n",
        "print(\"Century \",round(math.pow(100*365*24*60*60*i ,1/4)))\n",
        "print(\"Mileniun \",round(math.pow(1000*100*365*24*60*60*i ,1/4)))"
      ]
    },
    {
      "cell_type": "markdown",
      "metadata": {
        "id": "rxhxmseP7WLm"
      },
      "source": [
        "$\\bf{ Time\\ Complexity\\ 2^n }$\n",
        "\n",
        "$Second$\n",
        "$$  2^n  \\times 10^{-9} \\ s\\le 1\\ s$$ \n",
        "$$  2^n \\le  10^{9}  $$ \n",
        "$$  \\lg(2^n) \\le  \\lg(10^{9}  )$$ \n",
        "$$  n \\le  \\lg(10^{9}  ) = 29 $$\n",
        "\n",
        "$Minute$\n",
        "$$  2^n  \\times 10^{-9} s \\le 60\\ s$$ \n",
        "$$  2^n \\le   60 \\times  10^{9}  $$ \n",
        "$$  \\lg(2^n) \\le  \\lg(60 \\times  10^{9}  )$$ \n",
        "$$  n \\le  \\lg(10^{60 \\times  10^{9}  }) = 35 $$\n",
        "\n",
        "\n",
        "$Hour$\n",
        "$$  2^n  \\times 10^{-9} s \\le 3600\\ s$$ \n",
        "$$  2^n \\le   3600 \\times  10^{9}  $$ \n",
        "$$  \\lg(2^n) \\le  \\lg(3.6 \\times  10^{12})$$ \n",
        "$$  n \\le  \\lg(10^{3.6 \\times  10^{12}}) = 41 $$\n",
        "\n",
        "$Day$\n",
        "$$  2^n  \\times 10^{-9} s \\le  86400\\ s$$ \n",
        "$$  2^n \\le    86400\\times  10^{9}  $$ \n",
        "$$  \\lg(2^n) \\le  \\lg( 8.64 \\times  10^{13})$$ \n",
        "$$  n \\le  \\lg(10^{8.64 \\times  10^{13}}) = 46 $$\n",
        "\n",
        "$Year$\n",
        "$$  2^n  \\times 10^{-9} s \\le  31536000\\ s$$ \n",
        "$$  2^n \\le    31536000\\times  10^{9}  $$ \n",
        "$$  \\lg(2^n) \\le  \\lg( 3.1536 \\times  10^{16})$$ \n",
        "$$  n \\le  \\lg(10^{3.1536 \\times  10^{16}}) = 54 $$\n",
        "\n",
        "$Century$\n",
        "$$  2^n  \\times 10^{-9} s \\le  3153600000\\ s$$ \n",
        "$$  2^n \\le    3153600000\\times  10^{9}  $$ \n",
        "$$  \\lg(2^n) \\le  \\lg( 3.1536 \\times  10^{18})$$ \n",
        "$$  n \\le  \\lg(10^{3.1536 \\times  10^{18}}) = 61 $$\n",
        " \n",
        "\n",
        "$Mileniun$\n",
        "$$  2^n  \\times 10^{-9} s \\le  3153600000000\\ s$$ \n",
        "$$  2^n \\le    3153600000000\\times  10^{9}  $$ \n",
        "$$  \\lg(2^n) \\le  \\lg( 3.1536 \\times  10^{21})$$ \n",
        "$$  n \\le  \\lg(10^{3.1536 \\times  10^{21}}) = 71 $$"
      ]
    },
    {
      "cell_type": "code",
      "execution_count": null,
      "metadata": {
        "id": "oH9QJjo67WLm",
        "outputId": "860365db-5c16-40a8-a447-9e6f2fa3c45a"
      },
      "outputs": [
        {
          "name": "stdout",
          "output_type": "stream",
          "text": [
            "Second  29\n",
            "Minute   35\n",
            "Hour  41\n",
            "Day  46\n",
            "Year  54\n",
            "Century  61\n",
            "Mileniun  71\n"
          ]
        }
      ],
      "source": [
        "import math\n",
        "i = 10**9\n",
        "print(\"Second \",int(math.log2(i )))\n",
        "print(\"Minute  \",int(math.log2(60*i )))\n",
        "print(\"Hour \",int(math.log2(60*60*i )))\n",
        "print(\"Day \",int(math.log2(24*60*60*i )))\n",
        "print(\"Year \",int(math.log2(365*24*60*60*i )))\n",
        "print(\"Century \",int(math.log2(100*365*24*60*60*i )))\n",
        "print(\"Mileniun \",int(math.log2(1000*100*365*24*60*60*i )))"
      ]
    },
    {
      "cell_type": "code",
      "execution_count": null,
      "metadata": {
        "id": "iBQl41z67WLm",
        "outputId": "2b54967c-2f61-42e1-f184-cbeab5c8ca90"
      },
      "outputs": [
        {
          "name": "stdout",
          "output_type": "stream",
          "text": [
            "Second  29\n",
            "Minute   35\n",
            "Hour  41\n",
            "Day  46\n",
            "Year  54\n",
            "Century  61\n",
            "Mileniun  71\n"
          ]
        }
      ],
      "source": [
        "import math\n",
        "def f(n):\n",
        "  return 2**n\n",
        "\n",
        "def find(f,v):\n",
        "  l = 1\n",
        "  r = 100\n",
        "  while True:\n",
        "    m = int((l+r)/2)\n",
        "    if ((f(m+1) > v) and (f(m) <= v) ) or (l == m)  or (r== m):\n",
        "      return int(m)\n",
        "    elif f(m) < v:\n",
        "      l = m\n",
        "    else: \n",
        "      r = m\n",
        "\n",
        "i = 10**9\n",
        "print(\"Second \", find(f,i))\n",
        "print(\"Minute  \",find(f,60*i))\n",
        "print(\"Hour \",find(f,60*60*i))\n",
        "print(\"Day \",find(f,24*60*60*i))\n",
        "print(\"Year \",find(f,365*24*60*60*i))\n",
        "print(\"Century \",find(f,100*365*24*60*60*i))\n",
        "print(\"Mileniun \",find(f,1000*100*365*24*60*60*i))"
      ]
    },
    {
      "cell_type": "markdown",
      "metadata": {
        "id": "d-tUwLao7WLm"
      },
      "source": [
        "$\\bf{ Time\\ Complexity\\ n! }$\n",
        "\n",
        "$Second$\n",
        "$$  n!  \\times 10^{-9} \\ s\\le 1\\ s$$ \n",
        "$$  n! \\le  10^{9} $$ \n",
        "$$  n \\le  12 $$\n",
        "\n",
        "\n",
        "$Minute$\n",
        "$$  n! \\times 10^{-9} \\ s\\le 60\\ s$$ \n",
        "$$  n! \\le 60 \\times 10^{9} $$ \n",
        "$$  n \\le  13 $$\n",
        "\n",
        "$Hour$\n",
        "$$  n! \\times 10^{-9} \\ s\\le 3600\\ s$$ \n",
        "$$  n! \\le 3600 \\times 10^{9}  = 3.6 \\times 10^{12}$$ \n",
        "$$  n \\le 15 $$\n",
        "\n",
        "\n",
        "$Day$\n",
        "$$  n! \\times 10^{-9} \\ s\\le 86400\\ s$$ \n",
        "$$  n! \\le 86400 \\times 10^{9}  = 8.64 \\times 10^{13}$$ \n",
        "$$  n \\le 16 $$\n",
        "\n",
        "$Year$\n",
        "$$  n! \\times 10^{-9} \\ s\\le 31536000\\ s$$ \n",
        "$$  n! \\le 31536000 \\times 10^{9}   = 3.153 \\times 10^{16}$$ \n",
        "$$  n \\le 18 $$\n",
        "\n",
        "$Century$\n",
        "$$  n! \\times 10^{-9} \\ s\\le 3153600000\\ s$$ \n",
        "$$  n! \\le 3153600000 \\times 10^{9}  = 3.153 \\times 10^{18}$$ \n",
        "$$  n \\le 20 $$\n",
        "\n",
        "$Mileniun$\n",
        "$$  n! \\times 10^{-9} \\ s\\le 3153600000000\\ s$$ \n",
        "$$  n! \\le 3153600000000 \\times 10^{9}  = 3.153 \\times 10^{21}$$ \n",
        "$$  n \\le 22 $$"
      ]
    },
    {
      "cell_type": "code",
      "execution_count": null,
      "metadata": {
        "id": "Nbjx68317WLm",
        "outputId": "7635baa4-042b-40c7-9b91-2c9c74cad6ef"
      },
      "outputs": [
        {
          "name": "stdout",
          "output_type": "stream",
          "text": [
            "Second  12\n",
            "Minute   13\n",
            "Hour  15\n",
            "Day  16\n",
            "Year  18\n",
            "Century  20\n",
            "Mileniun  22\n"
          ]
        }
      ],
      "source": [
        "import math\n",
        "def f(n):\n",
        "  return math.factorial(n)\n",
        "\n",
        "def find(f,v):\n",
        "  l = 1\n",
        "  r = 100\n",
        "  while True:\n",
        "    m = int((l+r)/2)\n",
        "    if ((f(m+1) > v) and (f(m) <= v) ) or (l == m) or (r== m):\n",
        "      return int(m)\n",
        "    elif f(m) < v:\n",
        "      l = m\n",
        "    else: \n",
        "      r = m\n",
        "\n",
        "i = 10**9\n",
        "print(\"Second \", find(f,i))\n",
        "print(\"Minute  \",find(f,60*i))\n",
        "print(\"Hour \",find(f,60*60*i))\n",
        "print(\"Day \",find(f,24*60*60*i))\n",
        "print(\"Year \",find(f,365*24*60*60*i))\n",
        "print(\"Century \",find(f,100*365*24*60*60*i))\n",
        "print(\"Mileniun \",find(f,1000*100*365*24*60*60*i))"
      ]
    },
    {
      "cell_type": "markdown",
      "metadata": {
        "id": "UC2_JcD77WLn"
      },
      "source": [
        "$\\bf{ Time\\ Complexity\\ n^n }$\n",
        "\n",
        "$Second$\n",
        "$$  n^n  \\times 10^{-9} \\ s\\le 1\\ s$$ \n",
        "$$  n^n \\le  10^{9} $$ \n",
        "$$  n \\le  9 $$ \n",
        "\n",
        "$Minute$\n",
        "$$  n^n \\times 10^{-9} \\ s\\le 60\\ s$$ \n",
        "$$  n^n \\le 60 \\times 10^{9} $$ \n",
        "$$  n \\le 10 $$\n",
        "\n",
        "$Hour$\n",
        "$$  n^n \\times 10^{-9} \\ s\\le 3600\\ s$$ \n",
        "$$  n^n \\le 3600 \\times 10^{9}  = 3.6 \\times 10^{12}$$ \n",
        "$$  n \\le 11 $$\n",
        "\n",
        "$Day$\n",
        "$$  n^n \\times 10^{-9} \\ s\\le 86400\\ s$$ \n",
        "$$  n^n \\le 86400 \\times 10^{9}  = 8.64 \\times 10^{13}$$ \n",
        "$$  n \\le 12 $$\n",
        "\n",
        "$Year$\n",
        "$$  n^n \\times 10^{-9} \\ s\\le 31536000\\ s$$ \n",
        "$$  n^n \\le 31536000 \\times 10^{9}   = 3.153 \\times 10^{16}$$ \n",
        "$$  n \\le 14 $$\n",
        "\n",
        "\n",
        "$Century$\n",
        "$$  n^n \\times 10^{-9} \\ s\\le 3153600000\\ s$$ \n",
        "$$  n^n \\le 3153600000 \\times 10^{9}  = 3.153 \\times 10^{18}$$ \n",
        "$$  n \\le 15 $$ \n",
        "\n",
        "$Mileniun$\n",
        "$$  n^n \\times 10^{-9} \\ s\\le 3153600000000\\ s$$ \n",
        "$$  n^n \\le 3153600000000 \\times 10^{9}  = 3.153 \\times 10^{21}$$ \n",
        "$$  n \\le 17 $$\n"
      ]
    },
    {
      "cell_type": "code",
      "execution_count": null,
      "metadata": {
        "id": "lBoW9Q2W7WLn",
        "outputId": "ab098ab1-f3ae-40a2-e154-4c5b4f829993"
      },
      "outputs": [
        {
          "name": "stdout",
          "output_type": "stream",
          "text": [
            "Second  9\n",
            "Minute   10\n",
            "Hour  11\n",
            "Day  12\n",
            "Year  14\n",
            "Century  15\n",
            "Mileniun  17\n"
          ]
        }
      ],
      "source": [
        "import math\n",
        "def f(n):\n",
        "  return n**n\n",
        "\n",
        "def find(f,v):\n",
        "  l = 1\n",
        "  r = 100\n",
        "  while True:\n",
        "    m = int((l+r)/2)\n",
        "    if ((f(m+1) > v) and (f(m) <= v) ) or (l == m) or (r== m):\n",
        "      return int(m)\n",
        "    elif f(m) < v:\n",
        "      l = m\n",
        "    else: \n",
        "      r = m\n",
        "\n",
        "i = 10**9\n",
        "print(\"Second \", find(f,i))\n",
        "print(\"Minute  \",find(f,60*i))\n",
        "print(\"Hour \",find(f,60*60*i))\n",
        "print(\"Day \",find(f,24*60*60*i))\n",
        "print(\"Year \",find(f,365*24*60*60*i))\n",
        "print(\"Century \",find(f,100*365*24*60*60*i))\n",
        "print(\"Mileniun \",find(f,1000*100*365*24*60*60*i))"
      ]
    }
  ],
  "metadata": {
    "colab": {
      "provenance": []
    },
    "interpreter": {
      "hash": "6a2c7044fdf49af6baf7003b50f0a05eccc850dd98edb6e4c558b9f8f263024f"
    },
    "kernelspec": {
      "display_name": "Python 3.10.4 64-bit",
      "language": "python",
      "name": "python3"
    },
    "language_info": {
      "codemirror_mode": {
        "name": "ipython",
        "version": 3
      },
      "file_extension": ".py",
      "mimetype": "text/x-python",
      "name": "python",
      "nbconvert_exporter": "python",
      "pygments_lexer": "ipython3",
      "version": "3.10.4"
    }
  },
  "nbformat": 4,
  "nbformat_minor": 0
}